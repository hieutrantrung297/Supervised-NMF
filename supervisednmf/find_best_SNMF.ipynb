{
 "cells": [
  {
   "cell_type": "code",
   "execution_count": 27,
   "id": "3b0d39fe",
   "metadata": {},
   "outputs": [],
   "source": [
    "import pandas as pd\n",
    "import pickle, json, os, glob, re\n",
    "import seaborn as sns\n",
    "import numpy as np"
   ]
  },
  {
   "cell_type": "code",
   "execution_count": 28,
   "id": "1ccce476",
   "metadata": {},
   "outputs": [
    {
     "data": {
      "text/plain": [
       "4"
      ]
     },
     "execution_count": 28,
     "metadata": {},
     "output_type": "execute_result"
    }
   ],
   "source": [
    "feature_name = 'EM'\n",
    "\n",
    "file_list = glob.glob('output/SNMF/test_*_*_{}_*_*/summary.pkl'.format(feature_name))\n",
    "len(file_list)"
   ]
  },
  {
   "cell_type": "code",
   "execution_count": 29,
   "id": "7771f68a",
   "metadata": {},
   "outputs": [
    {
     "name": "stdout",
     "output_type": "stream",
     "text": [
      "Best SNMF =>  test_LR_random_EM_2_50000_1e-07_15_0.9_1e-06\n",
      "min_loss_transform_train (0.6818269) < min_loss (1000000000.0000000)\n",
      "Best SNMF =>  test_LR_random_EM_3_50000_1e-07_15_0.9_1e-06\n",
      "min_loss_transform_train (0.6279377) < min_loss (0.6818269)\n"
     ]
    }
   ],
   "source": [
    "min_loss = 1e9\n",
    "\n",
    "for file in file_list:\n",
    "    file = file.split('/summary.pkl')[0]\n",
    "    \n",
    "    case = file.split('/')[-1]\n",
    "    \n",
    "    summary_path = file + '/' + 'summary.pkl'\n",
    "    \n",
    "    with open(summary_path, 'rb') as f:\n",
    "        summary = pickle.load(f)\n",
    "        \n",
    "    min_loss_transform_train = np.min(summary['loss_transform_train_final'])\n",
    "    \n",
    "    if min_loss_transform_train < min_loss:\n",
    "        print('Best SNMF => ', case)\n",
    "        print(\"min_loss_transform_train ({:.7f}) < min_loss ({:.7f})\".format(min_loss_transform_train, min_loss))\n",
    "        min_loss = min_loss_transform_train\n",
    "        best_case = case"
   ]
  },
  {
   "cell_type": "code",
   "execution_count": null,
   "id": "fdd298a2",
   "metadata": {},
   "outputs": [],
   "source": []
  }
 ],
 "metadata": {
  "kernelspec": {
   "display_name": "Python 3 (ipykernel)",
   "language": "python",
   "name": "python3"
  },
  "language_info": {
   "codemirror_mode": {
    "name": "ipython",
    "version": 3
   },
   "file_extension": ".py",
   "mimetype": "text/x-python",
   "name": "python",
   "nbconvert_exporter": "python",
   "pygments_lexer": "ipython3",
   "version": "3.10.6"
  },
  "toc": {
   "base_numbering": 1,
   "nav_menu": {},
   "number_sections": true,
   "sideBar": true,
   "skip_h1_title": false,
   "title_cell": "Table of Contents",
   "title_sidebar": "Contents",
   "toc_cell": false,
   "toc_position": {},
   "toc_section_display": true,
   "toc_window_display": false
  }
 },
 "nbformat": 4,
 "nbformat_minor": 5
}
