{
 "cells": [
  {
   "cell_type": "code",
   "execution_count": 1,
   "id": "f2f209f2",
   "metadata": {},
   "outputs": [],
   "source": [
    "from jinja2 import Template\n",
    "import sys\n",
    "import glob\n",
    "import pandas as pd\n",
    "import os, re\n",
    "import sys\n",
    "sys.path.append(\"src/function_help\")\n",
    "from import_library_and_function import *\n",
    "\n",
    "def get_template_sample(template_file): \n",
    "    with open(template_file, 'r', encoding='UTF-8') as file: \n",
    "        return file.read()\n",
    "    \n",
    "def build_report(template_file, input_data, outfile): \n",
    "    html_template = get_template_sample(template_file) \n",
    "    jinja2_template = Template(html_template) \n",
    "    \n",
    "    html_content = jinja2_template.render(**input_data)\n",
    "    \n",
    "    with open(outfile, 'w', encoding='UTF-8') as file: \n",
    "        file.write(html_content) \n",
    "#     print(\"Create {} file success!\".format(outfile))"
   ]
  },
  {
   "cell_type": "code",
   "execution_count": 2,
   "id": "ff14c9b7",
   "metadata": {},
   "outputs": [],
   "source": [
    "############################################## WORKING DIR ##############################################\n",
    "working_dir = os.getcwd() + '/'\n",
    "os.chdir(working_dir)"
   ]
  },
  {
   "cell_type": "markdown",
   "id": "1d249073",
   "metadata": {},
   "source": [
    "# Main"
   ]
  },
  {
   "cell_type": "code",
   "execution_count": 5,
   "id": "d916473b",
   "metadata": {},
   "outputs": [
    {
     "name": "stdout",
     "output_type": "stream",
     "text": [
      "Submitted batch job 1755417\n",
      "/mnt/DATASM14/hieunho/hieu_gitlab/supervisednmf/run/SNMF/test_LR_random_EM_3_50000_1e-07_15_0.9_1e-06/log.log\n",
      "Submitted batch job 1755418\n",
      "/mnt/DATASM14/hieunho/hieu_gitlab/supervisednmf/run/SNMF/test_LDA_random_EM_3_50000_1e-07_15_0.9_1e-06/log.log\n"
     ]
    }
   ],
   "source": [
    "##################### INPUT ###########################################################################\n",
    "run_name = 'test'\n",
    "\n",
    "feature_name = 'EM'\n",
    "for rank in [2, 3]:\n",
    "    for nmf_init_mode in ['random']:\n",
    "        for loss_type in ['LR', 'LDA']:\n",
    "            iter = 50000\n",
    "            tolerance = 1e-07\n",
    "            patience = 15\n",
    "            alpha = 0.9\n",
    "            epsilon = 1e-6      \n",
    "\n",
    "\n",
    "            feature_path = working_dir + 'feature/{}/feature.csv'.format(feature_name)\n",
    "            meta_path = working_dir + 'meta/{}/meta.csv'.format(feature_name)\n",
    "            output_path = working_dir + 'output/SNMF/{}_{}_{}_{}_{}_{}_{}_{}_{}_{}'.format(run_name, loss_type, nmf_init_mode, feature_name, rank, iter, tolerance, patience, alpha, epsilon)\n",
    "            run_path = re.sub('/output/', '/run/', output_path)\n",
    "\n",
    "            ######################################################################################################\n",
    "            os.system('mkdir -p {}'.format(output_path))\n",
    "            os.system('mkdir -p {}'.format(run_path))\n",
    "\n",
    "\n",
    "            template_file = 'resource/template_run.sh'\n",
    "            dict_template = {}\n",
    "            dict_template['feature_path'] = feature_path\n",
    "            dict_template['meta_path'] = meta_path\n",
    "            dict_template['nmf_init_mode'] = nmf_init_mode\n",
    "            dict_template['loss_type'] = loss_type\n",
    "            dict_template['feature_name'] = feature_name\n",
    "            dict_template['rank'] = rank\n",
    "            dict_template['iter'] = iter\n",
    "            dict_template['tolerance'] = tolerance\n",
    "            dict_template['patience'] = patience\n",
    "            dict_template['alpha'] = alpha\n",
    "            dict_template['epsilon'] = epsilon\n",
    "            dict_template['run_path'] = run_path\n",
    "            dict_template['output_path'] = output_path\n",
    "            dict_template['Working_dir'] = working_dir\n",
    "\n",
    "            build_report(template_file, dict_template, run_path + '/run.sh')\n",
    "\n",
    "            os.system(\"sbatch {}\".format(run_path + '/run.sh'))\n",
    "            print(run_path + '/log.log')"
   ]
  },
  {
   "cell_type": "code",
   "execution_count": null,
   "id": "275bdfe1",
   "metadata": {},
   "outputs": [],
   "source": []
  }
 ],
 "metadata": {
  "kernelspec": {
   "display_name": "Python 3 (ipykernel)",
   "language": "python",
   "name": "python3"
  },
  "language_info": {
   "codemirror_mode": {
    "name": "ipython",
    "version": 3
   },
   "file_extension": ".py",
   "mimetype": "text/x-python",
   "name": "python",
   "nbconvert_exporter": "python",
   "pygments_lexer": "ipython3",
   "version": "3.10.6"
  },
  "toc": {
   "base_numbering": 1,
   "nav_menu": {},
   "number_sections": true,
   "sideBar": true,
   "skip_h1_title": false,
   "title_cell": "Table of Contents",
   "title_sidebar": "Contents",
   "toc_cell": false,
   "toc_position": {},
   "toc_section_display": true,
   "toc_window_display": false
  }
 },
 "nbformat": 4,
 "nbformat_minor": 5
}
